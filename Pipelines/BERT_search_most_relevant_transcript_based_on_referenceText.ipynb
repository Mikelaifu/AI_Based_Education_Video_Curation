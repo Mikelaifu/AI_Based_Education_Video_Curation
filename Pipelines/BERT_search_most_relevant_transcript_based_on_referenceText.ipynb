{
  "cells": [
    {
      "cell_type": "markdown",
      "id": "160b9084",
      "metadata": {
        "id": "160b9084"
      },
      "source": [
        "Building a vector-based search engine with Sentence Transformers and Faiss\n",
        "\n",
        "https://towardsdatascience.com/how-to-build-a-semantic-search-engine-with-transformers-and-faiss-dcbea307a0e8\n",
        "    \n",
        "Huggingface’s Transformers that provides access to state-of-the-art, pretrained models. Using pretrained models has many advantages:\n",
        "\n",
        "* They usually produce high-quality embeddings as they were trained on large amounts of text data.\n",
        "* They don’t require you to create a custom tokeniser as Transformers come with their own methods.\n",
        "* It’s straightforward to fine-tune a model to your task.\n",
        "\n",
        "\n",
        "\n",
        "- The most naive way to retrieve relevant documents would be to measure the cosine similarity between the query vector and every document vector in our database and return those with the highest score. Unfortunately, this is very slow in practice.\n",
        "\n",
        "- To build our semantic search engine we will use Sentence Transformers that fine-tune BERT-based models to produce semantically meaningful embeddings of long-text sequences.\n",
        "\n",
        "- The preferred approach is to use Faiss, a library for efficient similarity search and clustering of dense vectors. Faiss offers a large collection of indexes and composite indexes.\n",
        "Moreover, given a GPU, Faiss scales up to billions of vectors"
      ]
    },
    {
      "cell_type": "code",
      "source": [
        "# pip install sentence_transformers"
      ],
      "metadata": {
        "id": "65Cvsu9lpIEW"
      },
      "id": "65Cvsu9lpIEW",
      "execution_count": null,
      "outputs": []
    },
    {
      "cell_type": "code",
      "execution_count": null,
      "id": "1f74be15",
      "metadata": {
        "id": "1f74be15"
      },
      "outputs": [],
      "source": [
        "# pip install faiss.cpu"
      ]
    },
    {
      "cell_type": "code",
      "execution_count": null,
      "id": "756d9246",
      "metadata": {
        "id": "756d9246"
      },
      "outputs": [],
      "source": [
        "# %autoreload 2\n",
        "# Used to import data from local.\n",
        "import pandas as pd\n",
        "\n",
        "# Used to create the dense document vectors.\n",
        "import torch\n",
        "from sentence_transformers import SentenceTransformer\n",
        "\n",
        "# Used to create and store the Faiss index.\n",
        "import faiss\n",
        "import numpy as np\n",
        "import pickle\n",
        "from pathlib import Path\n",
        "\n",
        "# Used to do vector searches and display the results.\n",
        "# from vector_engine.utils import vector_search, id2details"
      ]
    },
    {
      "cell_type": "code",
      "source": [
        "import numpy as np\n",
        "\n",
        "\n",
        "def vector_search(query, model, index, num_results=10):\n",
        "    \"\"\"Tranforms query to vector using a pretrained, sentence-level \n",
        "    DistilBERT model and finds similar vectors using FAISS.\n",
        "    Args:\n",
        "        query (str): User query that should be more than a sentence long.\n",
        "        model (sentence_transformers.SentenceTransformer.SentenceTransformer)\n",
        "        index (`numpy.ndarray`): FAISS index that needs to be deserialized.\n",
        "        num_results (int): Number of results to return.\n",
        "    Returns:\n",
        "        D (:obj:`numpy.array` of `float`): Distance between results and query.\n",
        "        I (:obj:`numpy.array` of `int`): Paper ID of the results.\n",
        "    \n",
        "    \"\"\"\n",
        "    vector = model.encode(list(query))\n",
        "    # D, I = index.search(np.array(vector), k=num_results)\n",
        "    D, I = index.search(np.array(vector).astype(\"float32\"), k=num_results)\n",
        "    return D, I\n",
        "\n",
        "def id2details(df, I, column):\n",
        "    \"\"\"Returns the paper titles based on the paper index.\"\"\"\n",
        "    return [list(df[df.id == idx][column]) for idx in I[0]]"
      ],
      "metadata": {
        "id": "M5oFVTq6sZrQ"
      },
      "id": "M5oFVTq6sZrQ",
      "execution_count": null,
      "outputs": []
    },
    {
      "cell_type": "markdown",
      "id": "9a58708f",
      "metadata": {
        "id": "9a58708f"
      },
      "source": [
        "Preprocess the Data "
      ]
    },
    {
      "cell_type": "code",
      "source": [
        "df = pd.read_csv(\"data/ready_for_model.csv\")\n",
        "\n",
        "topic_lst = df.main_topics.unique().tolist()\n",
        "for topic in topic_lst:\n",
        "    f_name = \"ready_for_model_{}.csv\".format(topic)\n",
        "    df[df.main_topics == topic].to_csv(\"data/{}\".format(f_name))"
      ],
      "metadata": {
        "id": "jN4unxiN8ydD"
      },
      "id": "jN4unxiN8ydD",
      "execution_count": null,
      "outputs": []
    },
    {
      "cell_type": "code",
      "source": [
        "# import glob\n",
        "\n",
        "# file_lst = glob.glob(\"*.csv\")\n",
        "# file_lst"
      ],
      "metadata": {
        "colab": {
          "base_uri": "https://localhost:8080/"
        },
        "id": "p-rE6-p_yXyj",
        "outputId": "c0820813-feb5-4b03-d6a9-8c3e8d55a6a2"
      },
      "id": "p-rE6-p_yXyj",
      "execution_count": null,
      "outputs": [
        {
          "output_type": "execute_result",
          "data": {
            "text/plain": [
              "['ready_for_model_bird_flamingo.csv',\n",
              " 'ready_for_model_bird_tailorbird.csv',\n",
              " 'ready_for_model_bird_peacock.csv',\n",
              " 'ready_for_model_insect_ant.csv',\n",
              " 'ready_for_model_insect_beetle.csv']"
            ]
          },
          "metadata": {},
          "execution_count": 42
        }
      ]
    },
    {
      "cell_type": "code",
      "execution_count": null,
      "id": "4341054e",
      "metadata": {
        "colab": {
          "base_uri": "https://localhost:8080/",
          "height": 548
        },
        "id": "4341054e",
        "outputId": "6bf46e58-08a5-490a-d62f-6dfce602310c"
      },
      "outputs": [
        {
          "output_type": "execute_result",
          "data": {
            "text/plain": [
              "   Unnamed: 0  Unnamed: 0.1                         Title     Video_ID  \\\n",
              "0           0             0  Children Learn About The Ant  cXUCUvcscXs   \n",
              "1           1             1  Children Learn About The Ant  cXUCUvcscXs   \n",
              "2           2             2  Children Learn About The Ant  cXUCUvcscXs   \n",
              "3           3             3  Children Learn About The Ant  cXUCUvcscXs   \n",
              "4           4             4  Children Learn About The Ant  cXUCUvcscXs   \n",
              "\n",
              "  Category  Age_Restricted     final_corrected_version_sentences_txt  \\\n",
              "0      Ant           False   welcome to my treehouse kind of look at   \n",
              "1      Ant           False   this this is my ant farm answer amazing   \n",
              "2      Ant           False         creatures lots of insects live by   \n",
              "3      Ant           False    themselves and have to find their food   \n",
              "4      Ant           False  all on their own but ants live with lots   \n",
              "\n",
              "                         final_corrected_version_txt  \\\n",
              "0  welcome to my treehouse kind of look at. this ...   \n",
              "1  welcome to my treehouse kind of look at. this ...   \n",
              "2  welcome to my treehouse kind of look at. this ...   \n",
              "3  welcome to my treehouse kind of look at. this ...   \n",
              "4  welcome to my treehouse kind of look at. this ...   \n",
              "\n",
              "   sentence_level_timstamp_min_sec  sentence_level_timstamp_max_sec  \\\n",
              "0                            0.149                            7.259   \n",
              "1                            2.669                            9.420   \n",
              "2                            7.259                           11.280   \n",
              "3                            9.420                           14.190   \n",
              "4                           11.280                           16.520   \n",
              "\n",
              "   sentence_level_timstamp_min_minute  sentence_level_timstamp_max_minute  \\\n",
              "0                            0.002483                            0.120983   \n",
              "1                            0.044483                            0.157000   \n",
              "2                            0.120983                            0.188000   \n",
              "3                            0.157000                            0.236500   \n",
              "4                            0.188000                            0.275333   \n",
              "\n",
              "   duration  Length_(min)  Views_(thous) main_topics  \\\n",
              "0     7.110      5.333333        911.658  insect_ant   \n",
              "1     6.751      5.333333        911.658  insect_ant   \n",
              "2     4.021      5.333333        911.658  insect_ant   \n",
              "3     4.770      5.333333        911.658  insect_ant   \n",
              "4     5.240      5.333333        911.658  insect_ant   \n",
              "\n",
              "                                      reference_text  \\\n",
              "0  ['Ants are one of the most common insects that...   \n",
              "1  ['Ants are one of the most common insects that...   \n",
              "2  ['Ants are one of the most common insects that...   \n",
              "3  ['Ants are one of the most common insects that...   \n",
              "4  ['Ants are one of the most common insects that...   \n",
              "\n",
              "                              reference_text_cleaned  \n",
              "0  Ants are one of the most common insects that l...  \n",
              "1  Ants are one of the most common insects that l...  \n",
              "2  Ants are one of the most common insects that l...  \n",
              "3  Ants are one of the most common insects that l...  \n",
              "4  Ants are one of the most common insects that l...  "
            ],
            "text/html": [
              "\n",
              "  <div id=\"df-0a213703-23d6-4cad-ac18-2301dce34825\">\n",
              "    <div class=\"colab-df-container\">\n",
              "      <div>\n",
              "<style scoped>\n",
              "    .dataframe tbody tr th:only-of-type {\n",
              "        vertical-align: middle;\n",
              "    }\n",
              "\n",
              "    .dataframe tbody tr th {\n",
              "        vertical-align: top;\n",
              "    }\n",
              "\n",
              "    .dataframe thead th {\n",
              "        text-align: right;\n",
              "    }\n",
              "</style>\n",
              "<table border=\"1\" class=\"dataframe\">\n",
              "  <thead>\n",
              "    <tr style=\"text-align: right;\">\n",
              "      <th></th>\n",
              "      <th>Unnamed: 0</th>\n",
              "      <th>Unnamed: 0.1</th>\n",
              "      <th>Title</th>\n",
              "      <th>Video_ID</th>\n",
              "      <th>Category</th>\n",
              "      <th>Age_Restricted</th>\n",
              "      <th>final_corrected_version_sentences_txt</th>\n",
              "      <th>final_corrected_version_txt</th>\n",
              "      <th>sentence_level_timstamp_min_sec</th>\n",
              "      <th>sentence_level_timstamp_max_sec</th>\n",
              "      <th>sentence_level_timstamp_min_minute</th>\n",
              "      <th>sentence_level_timstamp_max_minute</th>\n",
              "      <th>duration</th>\n",
              "      <th>Length_(min)</th>\n",
              "      <th>Views_(thous)</th>\n",
              "      <th>main_topics</th>\n",
              "      <th>reference_text</th>\n",
              "      <th>reference_text_cleaned</th>\n",
              "    </tr>\n",
              "  </thead>\n",
              "  <tbody>\n",
              "    <tr>\n",
              "      <th>0</th>\n",
              "      <td>0</td>\n",
              "      <td>0</td>\n",
              "      <td>Children Learn About The Ant</td>\n",
              "      <td>cXUCUvcscXs</td>\n",
              "      <td>Ant</td>\n",
              "      <td>False</td>\n",
              "      <td>welcome to my treehouse kind of look at</td>\n",
              "      <td>welcome to my treehouse kind of look at. this ...</td>\n",
              "      <td>0.149</td>\n",
              "      <td>7.259</td>\n",
              "      <td>0.002483</td>\n",
              "      <td>0.120983</td>\n",
              "      <td>7.110</td>\n",
              "      <td>5.333333</td>\n",
              "      <td>911.658</td>\n",
              "      <td>insect_ant</td>\n",
              "      <td>['Ants are one of the most common insects that...</td>\n",
              "      <td>Ants are one of the most common insects that l...</td>\n",
              "    </tr>\n",
              "    <tr>\n",
              "      <th>1</th>\n",
              "      <td>1</td>\n",
              "      <td>1</td>\n",
              "      <td>Children Learn About The Ant</td>\n",
              "      <td>cXUCUvcscXs</td>\n",
              "      <td>Ant</td>\n",
              "      <td>False</td>\n",
              "      <td>this this is my ant farm answer amazing</td>\n",
              "      <td>welcome to my treehouse kind of look at. this ...</td>\n",
              "      <td>2.669</td>\n",
              "      <td>9.420</td>\n",
              "      <td>0.044483</td>\n",
              "      <td>0.157000</td>\n",
              "      <td>6.751</td>\n",
              "      <td>5.333333</td>\n",
              "      <td>911.658</td>\n",
              "      <td>insect_ant</td>\n",
              "      <td>['Ants are one of the most common insects that...</td>\n",
              "      <td>Ants are one of the most common insects that l...</td>\n",
              "    </tr>\n",
              "    <tr>\n",
              "      <th>2</th>\n",
              "      <td>2</td>\n",
              "      <td>2</td>\n",
              "      <td>Children Learn About The Ant</td>\n",
              "      <td>cXUCUvcscXs</td>\n",
              "      <td>Ant</td>\n",
              "      <td>False</td>\n",
              "      <td>creatures lots of insects live by</td>\n",
              "      <td>welcome to my treehouse kind of look at. this ...</td>\n",
              "      <td>7.259</td>\n",
              "      <td>11.280</td>\n",
              "      <td>0.120983</td>\n",
              "      <td>0.188000</td>\n",
              "      <td>4.021</td>\n",
              "      <td>5.333333</td>\n",
              "      <td>911.658</td>\n",
              "      <td>insect_ant</td>\n",
              "      <td>['Ants are one of the most common insects that...</td>\n",
              "      <td>Ants are one of the most common insects that l...</td>\n",
              "    </tr>\n",
              "    <tr>\n",
              "      <th>3</th>\n",
              "      <td>3</td>\n",
              "      <td>3</td>\n",
              "      <td>Children Learn About The Ant</td>\n",
              "      <td>cXUCUvcscXs</td>\n",
              "      <td>Ant</td>\n",
              "      <td>False</td>\n",
              "      <td>themselves and have to find their food</td>\n",
              "      <td>welcome to my treehouse kind of look at. this ...</td>\n",
              "      <td>9.420</td>\n",
              "      <td>14.190</td>\n",
              "      <td>0.157000</td>\n",
              "      <td>0.236500</td>\n",
              "      <td>4.770</td>\n",
              "      <td>5.333333</td>\n",
              "      <td>911.658</td>\n",
              "      <td>insect_ant</td>\n",
              "      <td>['Ants are one of the most common insects that...</td>\n",
              "      <td>Ants are one of the most common insects that l...</td>\n",
              "    </tr>\n",
              "    <tr>\n",
              "      <th>4</th>\n",
              "      <td>4</td>\n",
              "      <td>4</td>\n",
              "      <td>Children Learn About The Ant</td>\n",
              "      <td>cXUCUvcscXs</td>\n",
              "      <td>Ant</td>\n",
              "      <td>False</td>\n",
              "      <td>all on their own but ants live with lots</td>\n",
              "      <td>welcome to my treehouse kind of look at. this ...</td>\n",
              "      <td>11.280</td>\n",
              "      <td>16.520</td>\n",
              "      <td>0.188000</td>\n",
              "      <td>0.275333</td>\n",
              "      <td>5.240</td>\n",
              "      <td>5.333333</td>\n",
              "      <td>911.658</td>\n",
              "      <td>insect_ant</td>\n",
              "      <td>['Ants are one of the most common insects that...</td>\n",
              "      <td>Ants are one of the most common insects that l...</td>\n",
              "    </tr>\n",
              "  </tbody>\n",
              "</table>\n",
              "</div>\n",
              "      <button class=\"colab-df-convert\" onclick=\"convertToInteractive('df-0a213703-23d6-4cad-ac18-2301dce34825')\"\n",
              "              title=\"Convert this dataframe to an interactive table.\"\n",
              "              style=\"display:none;\">\n",
              "        \n",
              "  <svg xmlns=\"http://www.w3.org/2000/svg\" height=\"24px\"viewBox=\"0 0 24 24\"\n",
              "       width=\"24px\">\n",
              "    <path d=\"M0 0h24v24H0V0z\" fill=\"none\"/>\n",
              "    <path d=\"M18.56 5.44l.94 2.06.94-2.06 2.06-.94-2.06-.94-.94-2.06-.94 2.06-2.06.94zm-11 1L8.5 8.5l.94-2.06 2.06-.94-2.06-.94L8.5 2.5l-.94 2.06-2.06.94zm10 10l.94 2.06.94-2.06 2.06-.94-2.06-.94-.94-2.06-.94 2.06-2.06.94z\"/><path d=\"M17.41 7.96l-1.37-1.37c-.4-.4-.92-.59-1.43-.59-.52 0-1.04.2-1.43.59L10.3 9.45l-7.72 7.72c-.78.78-.78 2.05 0 2.83L4 21.41c.39.39.9.59 1.41.59.51 0 1.02-.2 1.41-.59l7.78-7.78 2.81-2.81c.8-.78.8-2.07 0-2.86zM5.41 20L4 18.59l7.72-7.72 1.47 1.35L5.41 20z\"/>\n",
              "  </svg>\n",
              "      </button>\n",
              "      \n",
              "  <style>\n",
              "    .colab-df-container {\n",
              "      display:flex;\n",
              "      flex-wrap:wrap;\n",
              "      gap: 12px;\n",
              "    }\n",
              "\n",
              "    .colab-df-convert {\n",
              "      background-color: #E8F0FE;\n",
              "      border: none;\n",
              "      border-radius: 50%;\n",
              "      cursor: pointer;\n",
              "      display: none;\n",
              "      fill: #1967D2;\n",
              "      height: 32px;\n",
              "      padding: 0 0 0 0;\n",
              "      width: 32px;\n",
              "    }\n",
              "\n",
              "    .colab-df-convert:hover {\n",
              "      background-color: #E2EBFA;\n",
              "      box-shadow: 0px 1px 2px rgba(60, 64, 67, 0.3), 0px 1px 3px 1px rgba(60, 64, 67, 0.15);\n",
              "      fill: #174EA6;\n",
              "    }\n",
              "\n",
              "    [theme=dark] .colab-df-convert {\n",
              "      background-color: #3B4455;\n",
              "      fill: #D2E3FC;\n",
              "    }\n",
              "\n",
              "    [theme=dark] .colab-df-convert:hover {\n",
              "      background-color: #434B5C;\n",
              "      box-shadow: 0px 1px 3px 1px rgba(0, 0, 0, 0.15);\n",
              "      filter: drop-shadow(0px 1px 2px rgba(0, 0, 0, 0.3));\n",
              "      fill: #FFFFFF;\n",
              "    }\n",
              "  </style>\n",
              "\n",
              "      <script>\n",
              "        const buttonEl =\n",
              "          document.querySelector('#df-0a213703-23d6-4cad-ac18-2301dce34825 button.colab-df-convert');\n",
              "        buttonEl.style.display =\n",
              "          google.colab.kernel.accessAllowed ? 'block' : 'none';\n",
              "\n",
              "        async function convertToInteractive(key) {\n",
              "          const element = document.querySelector('#df-0a213703-23d6-4cad-ac18-2301dce34825');\n",
              "          const dataTable =\n",
              "            await google.colab.kernel.invokeFunction('convertToInteractive',\n",
              "                                                     [key], {});\n",
              "          if (!dataTable) return;\n",
              "\n",
              "          const docLinkHtml = 'Like what you see? Visit the ' +\n",
              "            '<a target=\"_blank\" href=https://colab.research.google.com/notebooks/data_table.ipynb>data table notebook</a>'\n",
              "            + ' to learn more about interactive tables.';\n",
              "          element.innerHTML = '';\n",
              "          dataTable['output_type'] = 'display_data';\n",
              "          await google.colab.output.renderOutput(dataTable, element);\n",
              "          const docLink = document.createElement('div');\n",
              "          docLink.innerHTML = docLinkHtml;\n",
              "          element.appendChild(docLink);\n",
              "        }\n",
              "      </script>\n",
              "    </div>\n",
              "  </div>\n",
              "  "
            ]
          },
          "metadata": {},
          "execution_count": 44
        }
      ],
      "source": [
        "df_topic_ant = pd.read_csv('ready_for_model.csv/ready_for_model_insect_ant.csv')\n",
        "df_topic_ant.head()"
      ]
    },
    {
      "cell_type": "code",
      "source": [
        "df_topic_flamingo = pd.read_csv(\"data/ready_for_model_bird_flamingo.csv\")\n"
      ],
      "metadata": {
        "id": "_ArX8wX52-DL"
      },
      "id": "_ArX8wX52-DL",
      "execution_count": null,
      "outputs": []
    },
    {
      "cell_type": "code",
      "source": [
        "df_topic_tailorbird = pd.read_csv('data/ready_for_model_bird_tailorbird.csv')\n"
      ],
      "metadata": {
        "id": "hHh4I6JG2-PA"
      },
      "id": "hHh4I6JG2-PA",
      "execution_count": null,
      "outputs": []
    },
    {
      "cell_type": "code",
      "source": [
        "df_topic_peacock = pd.read_csv('data/ready_for_model_bird_peacock.csv')\n"
      ],
      "metadata": {
        "id": "w8A_u98p2-bH"
      },
      "id": "w8A_u98p2-bH",
      "execution_count": null,
      "outputs": []
    },
    {
      "cell_type": "code",
      "source": [
        "df_topic_beetle = pd.read_csv('data/ready_for_model_insect_beetle.csv')"
      ],
      "metadata": {
        "id": "5KIjZcJ62-kc"
      },
      "id": "5KIjZcJ62-kc",
      "execution_count": null,
      "outputs": []
    },
    {
      "cell_type": "code",
      "source": [
        "def BERT_Search_Engine_Preprocess(df_topic):\n",
        "  \n",
        "  reference_text_df = df_topic[['reference_text_cleaned', 'Video_ID','main_topics']].drop_duplicates().reset_index(drop = True)\n",
        "  reference_text_df = reference_text_df[reference_text_df['Video_ID'].str.endswith(\"_v\")].reset_index(drop = True)\n",
        "  reference_text_df['Video_ID'] = reference_text_df['main_topics']\n",
        "\n",
        "  text_lvl_df = df_topic[['final_corrected_version_txt', 'Video_ID', 'Title','main_topics']].drop_duplicates()\n",
        "  # text_lvl_df = pd.concat([text_lvl_df, text_lvl_df_reference ], axis = 0)\n",
        "  text_lvl_df = text_lvl_df.reset_index(drop = False).reset_index()\n",
        "  text_lvl_df =text_lvl_df.rename(columns = {'level_0': 'id_txt'})\n",
        "  text_lvl_df = text_lvl_df.drop(columns='index')\n",
        "\n",
        "\n",
        "  sentences_lvl_df = df_topic[['final_corrected_version_sentences_txt', 'Video_ID', 'main_topics',  'sentence_level_timstamp_min_sec', 'sentence_level_timstamp_max_sec']].drop_duplicates()\n",
        "  # sentences_lvl_df = sentences_lvl_df[~sentences_lvl_df['Video_ID'].str.endswith(\"_v\")]\n",
        "  # sentences_lvl_df = pd.concat([sentences_lvl_df, sentence_lvl_df_reference ], axis = 0)\n",
        "  sentences_lvl_df = sentences_lvl_df.reset_index(drop = False).reset_index()\n",
        "  sentences_lvl_df =sentences_lvl_df.rename(columns = {'level_0': 'index_sentence'})\n",
        "  sentences_lvl_df = sentences_lvl_df.drop(columns='index')\n",
        "  sentences_lvl_df[~sentences_lvl_df['Video_ID'].str.endswith(\"_v\")]\n",
        "\n",
        "  return reference_text_df, text_lvl_df, sentences_lvl_df\n"
      ],
      "metadata": {
        "id": "mm0n6PCqxYE9"
      },
      "id": "mm0n6PCqxYE9",
      "execution_count": null,
      "outputs": []
    },
    {
      "cell_type": "code",
      "source": [
        "def BERT_Search_Engine(text_lvl_df, sentences_lvl_df):\n",
        "\n",
        "  # Instantiate the sentence-level DistilBERT\n",
        "  model = SentenceTransformer('distilbert-base-nli-stsb-mean-tokens')\n",
        "  # Check if GPU is available and use it\n",
        "  if torch.cuda.is_available():\n",
        "      model = model.to(torch.device(\"cuda\"))\n",
        "  # print(model.device)\n",
        "  \n",
        "  # Convert text to vectors\n",
        "  embeddings_txt = model.encode(text_lvl_df.final_corrected_version_txt.to_list(), show_progress_bar=True)\n",
        "  # convert sentence to vectors\n",
        "  embeddings_sentences = model.encode(sentences_lvl_df.final_corrected_version_sentences_txt.to_list(), show_progress_bar=True)\n",
        "  \n",
        "  # index the text embedding:\n",
        "  # Step 1: Change data type\n",
        "  embeddings_txt = np.array([embedding for embedding in embeddings_txt]).astype(\"float32\")\n",
        "\n",
        "  # Step 2: Instantiate the index\n",
        "  index = faiss.IndexFlatL2(embeddings_txt.shape[1])\n",
        "\n",
        "  # Step 3: Pass the index to IndexIDMap\n",
        "  index = faiss.IndexIDMap(index)\n",
        "\n",
        "  # Step 4: Add vectors and their IDs\n",
        "  index.add_with_ids(embeddings_txt, text_lvl_df.id_txt.values)\n",
        "\n",
        "  # print(f\"Number of vectors in the Faiss index in Text Lvl: {index.ntotal}\")\n",
        "\n",
        "\n",
        "  # index the sentences embedding:\n",
        "  # Step 1: Change data type\n",
        "  embeddings_sentences = np.array([embedding for embedding in embeddings_sentences]).astype(\"float32\")\n",
        "\n",
        "  # Step 2: Instantiate the index\n",
        "  index_sentence = faiss.IndexFlatL2(embeddings_sentences.shape[1])\n",
        "\n",
        "  # Step 3: Pass the index to IndexIDMap\n",
        "  index_sentence = faiss.IndexIDMap(index_sentence)\n",
        "\n",
        "  # Step 4: Add vectors and their IDs\n",
        "  index_sentence.add_with_ids(embeddings_sentences, sentences_lvl_df.index_sentence.values)\n",
        "\n",
        "  # print(f\"Number of vectors in the Faiss index in Sentences Lvl: {index_sentence.ntotal}\")\n",
        "\n",
        "  return model, index, index_sentence\n"
      ],
      "metadata": {
        "id": "SFPVt1mgr74O"
      },
      "id": "SFPVt1mgr74O",
      "execution_count": null,
      "outputs": []
    },
    {
      "cell_type": "code",
      "source": [
        "#### Ant Ranking"
      ],
      "metadata": {
        "id": "eDzlfH0A1TvF"
      },
      "id": "eDzlfH0A1TvF",
      "execution_count": null,
      "outputs": []
    },
    {
      "cell_type": "code",
      "source": [
        "reference_text_df, text_lvl_df, sentences_lvl_df = BERT_Search_Engine_Preprocess(df_topic = df_topic_ant)\n",
        "model, index, index_sentence = BERT_Search_Engine(text_lvl_df = text_lvl_df, sentences_lvl_df = sentences_lvl_df)\n",
        "query = reference_text_df.iloc[0][0]"
      ],
      "metadata": {
        "colab": {
          "base_uri": "https://localhost:8080/",
          "height": 81,
          "referenced_widgets": [
            "f4f0d7b30b08424d9bb1f40dd40617e8",
            "24dd1d76ee12458eb449e3535ca41d71",
            "68fa98f695024fc69fe88129443dcb21",
            "1e13d60dcc1f4cb6b0ce465d42f19c1d",
            "c35427a2e7ae456eb1dc9b4ce04ff790",
            "dcaa4bfe7929429a8a9803521e6c73ff",
            "5df50ba7ae2e4ac29bf8c0d39d09b5be",
            "53f1efa1df694db2af42c87bcab8e7bf",
            "47429c46ffab4ef6b9c58447e047a58e",
            "063e652109ca435d9de69e6bb27c9096",
            "82017a71e74b410faf6b5ef105c066e2",
            "1b932bd087df45788d8bc840f9295eac",
            "9628370cb9234cdfad30e1b01c1df1ea",
            "42dda50d609c4805ba8751b718fbb335",
            "cf38b4a5d3c94c138c0eca9ccb8e1612",
            "545e09d3237d437fb0729814ae343ef2",
            "f35e3dd602e342529f9e6d40663b24a9",
            "f14c2de46388442e97443fcb2ebf56f3",
            "c3e81d0fce65441ba09f783d44a4b5e0",
            "b29997841c7840579c3f493b6536b55b",
            "e1643630aa414aeabab27bca235407d2",
            "aa15a9f421bb4157b5c3f8d16a5de27a"
          ]
        },
        "id": "3KKKrSHN1TQ0",
        "outputId": "055cd113-d7de-45ae-860b-a5471ad6dabe"
      },
      "id": "3KKKrSHN1TQ0",
      "execution_count": null,
      "outputs": [
        {
          "output_type": "display_data",
          "data": {
            "text/plain": [
              "Batches:   0%|          | 0/1 [00:00<?, ?it/s]"
            ],
            "application/vnd.jupyter.widget-view+json": {
              "version_major": 2,
              "version_minor": 0,
              "model_id": "f4f0d7b30b08424d9bb1f40dd40617e8"
            }
          },
          "metadata": {}
        },
        {
          "output_type": "display_data",
          "data": {
            "text/plain": [
              "Batches:   0%|          | 0/146 [00:00<?, ?it/s]"
            ],
            "application/vnd.jupyter.widget-view+json": {
              "version_major": 2,
              "version_minor": 0,
              "model_id": "1b932bd087df45788d8bc840f9295eac"
            }
          },
          "metadata": {}
        }
      ]
    },
    {
      "cell_type": "code",
      "source": [
        "D, I = vector_search([query], model, index, num_results=10)\n",
        "print(f'L2 distance: {D.flatten().tolist()}\\n\\nMAG paper IDs: {I.flatten().tolist()}')\n",
        "\n",
        "# Fetch the video id based on their index\n",
        "rank_num = 1\n",
        "print(\"Under the main topic: Insect_Ant: \\n\")\n",
        "for i in I.tolist()[0]:\n",
        "  top_txt_result_df = text_lvl_df[text_lvl_df['id_txt']==i]['Title'].values[0]\n",
        "  print(\"Rank{} : Video - {}\".format(rank_num,top_txt_result_df))\n",
        "  rank_num = rank_num + 1"
      ],
      "metadata": {
        "colab": {
          "base_uri": "https://localhost:8080/"
        },
        "id": "QtWfSlCgtPr7",
        "outputId": "f955b0ec-5d27-47b6-8516-6d8cc7985468"
      },
      "id": "QtWfSlCgtPr7",
      "execution_count": null,
      "outputs": [
        {
          "output_type": "stream",
          "name": "stdout",
          "text": [
            "L2 distance: [69.26106262207031, 79.56642150878906, 85.86907958984375, 91.19791412353516, 115.78446197509766, 133.18643188476562, 139.6414031982422, 139.88050842285156, 145.55471801757812, 157.7864990234375]\n",
            "\n",
            "MAG paper IDs: [0, 3, 18, 7, 10, 1, 17, 8, 2, 6]\n",
            "Under the main topic: Insect_Ant: \n",
            "\n",
            "Rank1 : Video - Children Learn About The Ant\n",
            "Rank2 : Video - Ants | Science for Kids\n",
            "Rank3 : Video - insects_intro_ant_v\n",
            "Rank4 : Video - How Do Ants Find Food? | Animal Science for Kids\n",
            "Rank5 : Video - National Geographic Readers: Ants\n",
            "Rank6 : Video - 🐜 ALL ABOUT ANTS 🐜 | 5 AMAZING FACTS ABOUT ANTS 🤯 | EXPLORER MAX\n",
            "Rank7 : Video - What if there were no Ants? + more videos | #aumsum #kids #science #education #children\n",
            "Rank8 : Video - The Life Cycle Of An Ant - Ant Life Cycle Lesson For Kids\n",
            "Rank9 : Video - My Animal Friends -The Different Types of Ants | Bugs for Kids | Wizz | TV Shows for Kids\n",
            "Rank10 : Video - Army Ant 🐜 | Amazing Animals\n"
          ]
        }
      ]
    },
    {
      "cell_type": "code",
      "source": [
        "## start to fetch the top 10 sentences under Video \"insects_intro_ant_v\"\n",
        "D, I = vector_search([query], model, index_sentence, num_results=100)\n",
        "print(f'L2 distance: {D.flatten().tolist()}\\n\\nMAG paper IDs: {I.flatten().tolist()}')\n",
        "# Fetch the video id based on their index\n",
        "rank_num = 1\n",
        "print(\"Under the Video 'insects_intro_ant_v': \\n\")\n",
        "for i in I.tolist()[0]:\n",
        "  top_sentence_result = sentences_lvl_df[sentences_lvl_df['index_sentence']==i]['final_corrected_version_sentences_txt'].values[0]\n",
        "  top_sentence_video_result = sentences_lvl_df[sentences_lvl_df['index_sentence']==i]['Video_ID'].values[0]\n",
        "  if top_sentence_video_result == \"insects_intro_ant_v\":\n",
        "    print(\"\\nRank{} : Video - {}\\nSentence:\\n{}\".format(rank_num,top_sentence_video_result,top_sentence_result ))\n",
        "    rank_num = rank_num + 1\n"
      ],
      "metadata": {
        "colab": {
          "base_uri": "https://localhost:8080/"
        },
        "id": "-a2ebptXtsAN",
        "outputId": "1fde8deb-dff6-4bdd-ff3d-b310180fb6de"
      },
      "id": "-a2ebptXtsAN",
      "execution_count": null,
      "outputs": [
        {
          "output_type": "stream",
          "name": "stdout",
          "text": [
            "L2 distance: [94.9134521484375, 125.75140380859375, 130.35272216796875, 141.81874084472656, 144.03453063964844, 144.4069061279297, 145.5682373046875, 152.12161254882812, 152.85801696777344, 153.13104248046875, 158.89987182617188, 159.02020263671875, 162.29281616210938, 163.1450653076172, 165.9448699951172, 167.31411743164062, 167.5380401611328, 167.62600708007812, 167.92446899414062, 169.4123077392578, 169.8798370361328, 171.6204071044922, 172.45797729492188, 173.6826629638672, 174.26608276367188, 175.33599853515625, 175.40699768066406, 175.9908905029297, 176.941650390625, 177.18211364746094, 177.3096160888672, 178.3369903564453, 178.84349060058594, 179.11492919921875, 180.47044372558594, 180.60462951660156, 181.3361053466797, 182.46067810058594, 182.91844177246094, 183.4300079345703, 184.39605712890625, 186.29959106445312, 187.77862548828125, 188.35816955566406, 188.5408935546875, 188.5891876220703, 188.6169891357422, 189.2292022705078, 190.9556427001953, 190.962890625, 191.249755859375, 191.78309631347656, 191.80831909179688, 191.81341552734375, 192.24752807617188, 192.34716796875, 193.14837646484375, 193.26751708984375, 193.54135131835938, 193.98582458496094, 194.65980529785156, 194.71160888671875, 195.0872802734375, 195.7838592529297, 196.2568359375, 196.76565551757812, 196.91612243652344, 197.936279296875, 198.2140350341797, 198.6173858642578, 199.3106231689453, 199.4982452392578, 200.0211944580078, 200.26226806640625, 200.75294494628906, 201.58175659179688, 201.62216186523438, 201.78260803222656, 202.30604553222656, 202.68821716308594, 203.2660369873047, 203.44915771484375, 203.46083068847656, 203.87559509277344, 203.88180541992188, 203.99913024902344, 204.80130004882812, 204.8035430908203, 205.33157348632812, 205.3429412841797, 205.61155700683594, 206.15383911132812, 207.18386840820312, 207.7403106689453, 207.9689483642578, 208.0199737548828, 208.6376190185547, 208.88430786132812, 209.33299255371094, 209.3364715576172]\n",
            "\n",
            "MAG paper IDs: [4639, 368, 760, 762, 741, 1070, 1032, 769, 1059, 731, 950, 969, 729, 775, 131, 154, 735, 4, 4655, 911, 994, 753, 889, 1030, 732, 747, 1075, 1728, 773, 1242, 1095, 778, 1084, 842, 1735, 1565, 1276, 77, 764, 8, 14, 1019, 1550, 657, 1078, 977, 1306, 1341, 11, 513, 1152, 317, 774, 1141, 759, 4627, 780, 1239, 88, 664, 782, 564, 1145, 1131, 613, 1383, 518, 1604, 1271, 701, 787, 307, 66, 390, 304, 1630, 1348, 1492, 948, 45, 361, 90, 1772, 1466, 546, 642, 737, 1409, 283, 1274, 953, 397, 1146, 72, 5, 4628, 1219, 643, 743, 4640]\n",
            "Under the Video 'insects_intro_ant_v': \n",
            "\n",
            "\n",
            "Rank1 : Video - insects_intro_ant_v\n",
            "Sentence:\n",
            "These huge groups of ants are called calm he's a single colony may contain thousands even millions of ants every ant in a colony has a specific job worker answer small ants that are responsible for everything from digging and repairing the tunnels to gathering food to caring for the young ants.\n",
            "\n",
            "Rank2 : Video - insects_intro_ant_v\n",
            "Sentence:\n",
            "The entertainer is used to chew food and the outer jaw is used to grip and terry all sets of communicate by releasing a second called what's the worker ants have found a good source of food.\n",
            "\n",
            "Rank3 : Video - insects_intro_ant_v\n",
            "Sentence:\n",
            "All of the worker ants all females.\n"
          ]
        }
      ]
    },
    {
      "cell_type": "code",
      "source": [
        "## Flamingo"
      ],
      "metadata": {
        "id": "pB-CyplRtrP7"
      },
      "id": "pB-CyplRtrP7",
      "execution_count": null,
      "outputs": []
    },
    {
      "cell_type": "code",
      "source": [
        "reference_text_df, text_lvl_df, sentences_lvl_df = BERT_Search_Engine_Preprocess(df_topic = df_topic_flamingo )\n",
        "model, index, index_sentence = BERT_Search_Engine(text_lvl_df = text_lvl_df, sentences_lvl_df = sentences_lvl_df)\n",
        "query = reference_text_df.iloc[0][0]"
      ],
      "metadata": {
        "id": "gUtH_HKTtfKK"
      },
      "id": "gUtH_HKTtfKK",
      "execution_count": null,
      "outputs": []
    },
    {
      "cell_type": "code",
      "source": [
        "D, I = vector_search([query], model, index, num_results=10)\n",
        "print(f'L2 distance: {D.flatten().tolist()}\\n\\nMAG paper IDs: {I.flatten().tolist()}')\n",
        "\n",
        "# Fetch the video id based on their index\n",
        "rank_num = 1\n",
        "print(\"Under the main topic: Insect_Ant: \\n\")\n",
        "for i in I.tolist()[0]:\n",
        "  top_txt_result_df = text_lvl_df[text_lvl_df['id_txt']==i]['Title'].values[0]\n",
        "  print(\"Rank{} : Video - {}\".format(rank_num,top_txt_result_df))\n",
        "  rank_num = rank_num + 1"
      ],
      "metadata": {
        "id": "wd_LIXFAw4u3"
      },
      "id": "wd_LIXFAw4u3",
      "execution_count": null,
      "outputs": []
    },
    {
      "cell_type": "code",
      "source": [
        "## start to fetch the top 10 sentences under Video \"flamingo_intro_ant_v\"\n",
        "D, I = vector_search([query], model, index_sentence, num_results=100)\n",
        "print(f'L2 distance: {D.flatten().tolist()}\\n\\nMAG paper IDs: {I.flatten().tolist()}')\n",
        "\n",
        "\n",
        "# Fetch the video id based on their index\n",
        "rank_num = 1\n",
        "print(\"Under the Video 'birds_intro_flamingo_v': \\n\")\n",
        "for i in I.tolist()[0]:\n",
        "  top_sentence_result = sentences_lvl_df[sentences_lvl_df['index_sentence']==i]['final_corrected_version_sentences_txt'].values[0]\n",
        "  top_sentence_video_result = sentences_lvl_df[sentences_lvl_df['index_sentence']==i]['Video_ID'].values[0]\n",
        "  if top_sentence_video_result == \"birds_intro_flamingo_v\":\n",
        "    print(\"\\nRank{} : Video - {}\\nSentence:\\n{}\".format(rank_num,top_sentence_video_result,top_sentence_result ))\n",
        "    rank_num = rank_num + 1\n"
      ],
      "metadata": {
        "id": "IfDFqKngw5Rs"
      },
      "id": "IfDFqKngw5Rs",
      "execution_count": null,
      "outputs": []
    },
    {
      "cell_type": "code",
      "source": [
        "## Tailorbird  "
      ],
      "metadata": {
        "id": "9NZXMX7m2axY"
      },
      "id": "9NZXMX7m2axY",
      "execution_count": null,
      "outputs": []
    },
    {
      "cell_type": "code",
      "source": [
        "\n",
        "reference_text_df, text_lvl_df, sentences_lvl_df = BERT_Search_Engine_Preprocess(df_topic = df_topic_tailorbird)\n",
        "model, index, index_sentence = BERT_Search_Engine(text_lvl_df = text_lvl_df, sentences_lvl_df = sentences_lvl_df)\n",
        "query = reference_text_df.iloc[0][0]"
      ],
      "metadata": {
        "id": "CAbCMtfo2bdv"
      },
      "id": "CAbCMtfo2bdv",
      "execution_count": null,
      "outputs": []
    },
    {
      "cell_type": "code",
      "source": [
        "D, I = vector_search([query], model, index, num_results=10)\n",
        "print(f'L2 distance: {D.flatten().tolist()}\\n\\nMAG paper IDs: {I.flatten().tolist()}')\n",
        "\n",
        "# Fetch the video id based on their index\n",
        "rank_num = 1\n",
        "print(\"Under the main topic: bird_tailorbird: \\n\")\n",
        "for i in I.tolist()[0]:\n",
        "  top_txt_result_df = text_lvl_df[text_lvl_df['id_txt']==i]['Title'].values[0]\n",
        "  print(\"Rank{} : Video - {}\".format(rank_num,top_txt_result_df))\n",
        "  rank_num = rank_num + 1"
      ],
      "metadata": {
        "id": "OssOyV_G2bu-"
      },
      "id": "OssOyV_G2bu-",
      "execution_count": null,
      "outputs": []
    },
    {
      "cell_type": "code",
      "source": [
        "## start to fetch the top 10 sentences under Video \"tailorbird_intro_ant_v\"\n",
        "D, I = vector_search([query], model, index_sentence, num_results=100)\n",
        "print(f'L2 distance: {D.flatten().tolist()}\\n\\nMAG paper IDs: {I.flatten().tolist()}')\n",
        "\n",
        "\n",
        "# Fetch the video id based on their index\n",
        "rank_num = 1\n",
        "print(\"Under the Video 'birds_intro_tailor_bird_v': \\n\")\n",
        "for i in I.tolist()[0]:\n",
        "  top_sentence_result = sentences_lvl_df[sentences_lvl_df['index_sentence']==i]['final_corrected_version_sentences_txt'].values[0]\n",
        "  top_sentence_video_result = sentences_lvl_df[sentences_lvl_df['index_sentence']==i]['Video_ID'].values[0]\n",
        "  if top_sentence_video_result == \"birds_intro_tailor_bird_v\":\n",
        "    print(\"\\nRank{} : Video - {}\\nSentence:\\n{}\".format(rank_num,top_sentence_video_result,top_sentence_result ))\n",
        "    rank_num = rank_num + 1\n"
      ],
      "metadata": {
        "id": "zs2V5-SK2b6e"
      },
      "id": "zs2V5-SK2b6e",
      "execution_count": null,
      "outputs": []
    },
    {
      "cell_type": "code",
      "source": [
        "# peacock"
      ],
      "metadata": {
        "id": "lFSY0rI-2cD7"
      },
      "id": "lFSY0rI-2cD7",
      "execution_count": null,
      "outputs": []
    },
    {
      "cell_type": "code",
      "source": [
        "\n",
        "reference_text_df, text_lvl_df, sentences_lvl_df = BERT_Search_Engine_Preprocess(df_topic = df_topic_peacock)\n",
        "model, index, index_sentence = BERT_Search_Engine(text_lvl_df = text_lvl_df, sentences_lvl_df = sentences_lvl_df)\n",
        "query = reference_text_df.iloc[0][0]"
      ],
      "metadata": {
        "id": "5Ab2Yyh-2cNJ"
      },
      "id": "5Ab2Yyh-2cNJ",
      "execution_count": null,
      "outputs": []
    },
    {
      "cell_type": "code",
      "source": [
        "D, I = vector_search([query], model, index, num_results=10)\n",
        "print(f'L2 distance: {D.flatten().tolist()}\\n\\nMAG paper IDs: {I.flatten().tolist()}')\n",
        "\n",
        "# Fetch the video id based on their index\n",
        "rank_num = 1\n",
        "print(\"Under the main topic: bird_peacock: \\n\")\n",
        "for i in I.tolist()[0]:\n",
        "  top_txt_result_df = text_lvl_df[text_lvl_df['id_txt']==i]['Title'].values[0]\n",
        "  print(\"Rank{} : Video - {}\".format(rank_num,top_txt_result_df))\n",
        "  rank_num = rank_num + 1"
      ],
      "metadata": {
        "id": "h-hT4IKa2cWy"
      },
      "id": "h-hT4IKa2cWy",
      "execution_count": null,
      "outputs": []
    },
    {
      "cell_type": "code",
      "source": [
        "## start to fetch the top 10 sentences under Video \"birds_intro_peacock_v\"\n",
        "D, I = vector_search([query], model, index_sentence, num_results=100)\n",
        "print(f'L2 distance: {D.flatten().tolist()}\\n\\nMAG paper IDs: {I.flatten().tolist()}')\n",
        "\n",
        "\n",
        "# Fetch the video id based on their index\n",
        "rank_num = 1\n",
        "print(\"Under the Video 'birds_intro_peacock_v': \\n\")\n",
        "for i in I.tolist()[0]:\n",
        "  top_sentence_result = sentences_lvl_df[sentences_lvl_df['index_sentence']==i]['final_corrected_version_sentences_txt'].values[0]\n",
        "  top_sentence_video_result = sentences_lvl_df[sentences_lvl_df['index_sentence']==i]['Video_ID'].values[0]\n",
        "  if top_sentence_video_result == \"birds_intro_peacock_v\":\n",
        "    print(\"\\nRank{} : Video - {}\\nSentence:\\n{}\".format(rank_num,top_sentence_video_result,top_sentence_result ))\n",
        "    rank_num = rank_num + 1\n"
      ],
      "metadata": {
        "id": "eYHu3Dpj2crO"
      },
      "id": "eYHu3Dpj2crO",
      "execution_count": null,
      "outputs": []
    },
    {
      "cell_type": "code",
      "source": [
        "## beetle "
      ],
      "metadata": {
        "id": "FjpdY20m2czA"
      },
      "id": "FjpdY20m2czA",
      "execution_count": null,
      "outputs": []
    },
    {
      "cell_type": "code",
      "source": [
        "\n",
        "reference_text_df, text_lvl_df, sentences_lvl_df = BERT_Search_Engine_Preprocess(df_topic = df_topic_beetle)\n",
        "model, index, index_sentence = BERT_Search_Engine(text_lvl_df = text_lvl_df, sentences_lvl_df = sentences_lvl_df)\n",
        "query = reference_text_df.iloc[0][0]"
      ],
      "metadata": {
        "id": "SnM36Vy22c67"
      },
      "id": "SnM36Vy22c67",
      "execution_count": null,
      "outputs": []
    },
    {
      "cell_type": "code",
      "source": [
        "D, I = vector_search([query], model, index, num_results=10)\n",
        "print(f'L2 distance: {D.flatten().tolist()}\\n\\nMAG paper IDs: {I.flatten().tolist()}')\n",
        "\n",
        "# Fetch the video id based on their index\n",
        "rank_num = 1\n",
        "print(\"Under the main topic: insects_beetle: \\n\")\n",
        "for i in I.tolist()[0]:\n",
        "  top_txt_result_df = text_lvl_df[text_lvl_df['id_txt']==i]['Title'].values[0]\n",
        "  print(\"Rank{} : Video - {}\".format(rank_num,top_txt_result_df))\n",
        "  rank_num = rank_num + 1"
      ],
      "metadata": {
        "id": "i8jF5VQT5Mce"
      },
      "id": "i8jF5VQT5Mce",
      "execution_count": null,
      "outputs": []
    },
    {
      "cell_type": "code",
      "source": [
        "## start to fetch the top 10 sentences under Video \"insects_intro_beetle_v\"\n",
        "D, I = vector_search([query], model, index_sentence, num_results=100)\n",
        "print(f'L2 distance: {D.flatten().tolist()}\\n\\nMAG paper IDs: {I.flatten().tolist()}')\n",
        "\n",
        "\n",
        "# Fetch the video id based on their index\n",
        "rank_num = 1\n",
        "print(\"Under the Video 'insects_intro_beetle_v': \\n\")\n",
        "for i in I.tolist()[0]:\n",
        "  top_sentence_result = sentences_lvl_df[sentences_lvl_df['index_sentence']==i]['final_corrected_version_sentences_txt'].values[0]\n",
        "  top_sentence_video_result = sentences_lvl_df[sentences_lvl_df['index_sentence']==i]['Video_ID'].values[0]\n",
        "  if top_sentence_video_result == \"insects_intro_beetle_v\":\n",
        "    print(\"\\nRank{} : Video - {}\\nSentence:\\n{}\".format(rank_num,top_sentence_video_result,top_sentence_result ))\n",
        "    rank_num = rank_num + 1\n"
      ],
      "metadata": {
        "id": "kz2mzPCa2dC_"
      },
      "id": "kz2mzPCa2dC_",
      "execution_count": null,
      "outputs": []
    },
    {
      "cell_type": "markdown",
      "source": [
        "# New Section"
      ],
      "metadata": {
        "id": "vejsilolLOXC"
      },
      "id": "vejsilolLOXC"
    },
    {
      "cell_type": "markdown",
      "source": [
        "# New Section"
      ],
      "metadata": {
        "id": "5fbCKR4qLO7-"
      },
      "id": "5fbCKR4qLO7-"
    },
    {
      "cell_type": "code",
      "execution_count": null,
      "id": "8582d3d3",
      "metadata": {
        "id": "8582d3d3"
      },
      "outputs": [],
      "source": [
        ""
      ]
    },
    {
      "cell_type": "code",
      "execution_count": null,
      "id": "bcd12b11",
      "metadata": {
        "id": "bcd12b11"
      },
      "outputs": [],
      "source": [
        ""
      ]
    },
    {
      "cell_type": "code",
      "execution_count": null,
      "id": "f8720ce3",
      "metadata": {
        "id": "f8720ce3"
      },
      "outputs": [],
      "source": [
        ""
      ]
    },
    {
      "cell_type": "code",
      "execution_count": null,
      "id": "9b279efe",
      "metadata": {
        "id": "9b279efe"
      },
      "outputs": [],
      "source": [
        ""
      ]
    },
    {
      "cell_type": "code",
      "execution_count": null,
      "id": "a2143514",
      "metadata": {
        "id": "a2143514"
      },
      "outputs": [],
      "source": [
        ""
      ]
    },
    {
      "cell_type": "code",
      "execution_count": null,
      "id": "846e5554",
      "metadata": {
        "id": "846e5554"
      },
      "outputs": [],
      "source": [
        ""
      ]
    },
    {
      "cell_type": "code",
      "execution_count": null,
      "id": "e6db65b2",
      "metadata": {
        "id": "e6db65b2"
      },
      "outputs": [],
      "source": [
        ""
      ]
    },
    {
      "cell_type": "code",
      "execution_count": null,
      "id": "48bbd70d",
      "metadata": {
        "id": "48bbd70d"
      },
      "outputs": [],
      "source": [
        ""
      ]
    },
    {
      "cell_type": "code",
      "execution_count": null,
      "id": "97d11390",
      "metadata": {
        "id": "97d11390"
      },
      "outputs": [],
      "source": [
        ""
      ]
    },
    {
      "cell_type": "code",
      "execution_count": null,
      "id": "7609418e",
      "metadata": {
        "id": "7609418e"
      },
      "outputs": [],
      "source": [
        ""
      ]
    },
    {
      "cell_type": "code",
      "execution_count": null,
      "id": "65c8c74d",
      "metadata": {
        "id": "65c8c74d"
      },
      "outputs": [],
      "source": [
        ""
      ]
    },
    {
      "cell_type": "code",
      "execution_count": null,
      "id": "29225fae",
      "metadata": {
        "id": "29225fae"
      },
      "outputs": [],
      "source": [
        ""
      ]
    },
    {
      "cell_type": "code",
      "execution_count": null,
      "id": "d6b7294a",
      "metadata": {
        "id": "d6b7294a"
      },
      "outputs": [],
      "source": [
        ""
      ]
    },
    {
      "cell_type": "code",
      "execution_count": null,
      "id": "cebab4e0",
      "metadata": {
        "id": "cebab4e0"
      },
      "outputs": [],
      "source": [
        ""
      ]
    },
    {
      "cell_type": "code",
      "execution_count": null,
      "id": "4f4ddead",
      "metadata": {
        "id": "4f4ddead"
      },
      "outputs": [],
      "source": [
        ""
      ]
    },
    {
      "cell_type": "code",
      "execution_count": null,
      "id": "f276ec56",
      "metadata": {
        "id": "f276ec56"
      },
      "outputs": [],
      "source": [
        ""
      ]
    },
    {
      "cell_type": "code",
      "execution_count": null,
      "id": "06a446a8",
      "metadata": {
        "id": "06a446a8"
      },
      "outputs": [],
      "source": [
        ""
      ]
    }
  ],
  "metadata": {
    "kernelspec": {
      "display_name": "Python 3.8 (tensorflow)",
      "language": "python",
      "name": "tf3.8"
    },
    "language_info": {
      "codemirror_mode": {
        "name": "ipython",
        "version": 3
      },
      "file_extension": ".py",
      "mimetype": "text/x-python",
      "name": "python",
      "nbconvert_exporter": "python",
      "pygments_lexer": "ipython3",
      "version": "3.8.13"
    },
    "colab": {
      "name": "BERT_search_most_relevant_transcript_based_on_referenceText.ipynb",
      "provenance": [],
      "collapsed_sections": []
    },
    "widgets": {
      "application/vnd.jupyter.widget-state+json": {
        "f4f0d7b30b08424d9bb1f40dd40617e8": {
          "model_module": "@jupyter-widgets/controls",
          "model_name": "HBoxModel",
          "model_module_version": "1.5.0",
          "state": {
            "_dom_classes": [],
            "_model_module": "@jupyter-widgets/controls",
            "_model_module_version": "1.5.0",
            "_model_name": "HBoxModel",
            "_view_count": null,
            "_view_module": "@jupyter-widgets/controls",
            "_view_module_version": "1.5.0",
            "_view_name": "HBoxView",
            "box_style": "",
            "children": [
              "IPY_MODEL_24dd1d76ee12458eb449e3535ca41d71",
              "IPY_MODEL_68fa98f695024fc69fe88129443dcb21",
              "IPY_MODEL_1e13d60dcc1f4cb6b0ce465d42f19c1d"
            ],
            "layout": "IPY_MODEL_c35427a2e7ae456eb1dc9b4ce04ff790"
          }
        },
        "24dd1d76ee12458eb449e3535ca41d71": {
          "model_module": "@jupyter-widgets/controls",
          "model_name": "HTMLModel",
          "model_module_version": "1.5.0",
          "state": {
            "_dom_classes": [],
            "_model_module": "@jupyter-widgets/controls",
            "_model_module_version": "1.5.0",
            "_model_name": "HTMLModel",
            "_view_count": null,
            "_view_module": "@jupyter-widgets/controls",
            "_view_module_version": "1.5.0",
            "_view_name": "HTMLView",
            "description": "",
            "description_tooltip": null,
            "layout": "IPY_MODEL_dcaa4bfe7929429a8a9803521e6c73ff",
            "placeholder": "​",
            "style": "IPY_MODEL_5df50ba7ae2e4ac29bf8c0d39d09b5be",
            "value": "Batches: 100%"
          }
        },
        "68fa98f695024fc69fe88129443dcb21": {
          "model_module": "@jupyter-widgets/controls",
          "model_name": "FloatProgressModel",
          "model_module_version": "1.5.0",
          "state": {
            "_dom_classes": [],
            "_model_module": "@jupyter-widgets/controls",
            "_model_module_version": "1.5.0",
            "_model_name": "FloatProgressModel",
            "_view_count": null,
            "_view_module": "@jupyter-widgets/controls",
            "_view_module_version": "1.5.0",
            "_view_name": "ProgressView",
            "bar_style": "success",
            "description": "",
            "description_tooltip": null,
            "layout": "IPY_MODEL_53f1efa1df694db2af42c87bcab8e7bf",
            "max": 1,
            "min": 0,
            "orientation": "horizontal",
            "style": "IPY_MODEL_47429c46ffab4ef6b9c58447e047a58e",
            "value": 1
          }
        },
        "1e13d60dcc1f4cb6b0ce465d42f19c1d": {
          "model_module": "@jupyter-widgets/controls",
          "model_name": "HTMLModel",
          "model_module_version": "1.5.0",
          "state": {
            "_dom_classes": [],
            "_model_module": "@jupyter-widgets/controls",
            "_model_module_version": "1.5.0",
            "_model_name": "HTMLModel",
            "_view_count": null,
            "_view_module": "@jupyter-widgets/controls",
            "_view_module_version": "1.5.0",
            "_view_name": "HTMLView",
            "description": "",
            "description_tooltip": null,
            "layout": "IPY_MODEL_063e652109ca435d9de69e6bb27c9096",
            "placeholder": "​",
            "style": "IPY_MODEL_82017a71e74b410faf6b5ef105c066e2",
            "value": " 1/1 [00:04&lt;00:00,  4.89s/it]"
          }
        },
        "c35427a2e7ae456eb1dc9b4ce04ff790": {
          "model_module": "@jupyter-widgets/base",
          "model_name": "LayoutModel",
          "model_module_version": "1.2.0",
          "state": {
            "_model_module": "@jupyter-widgets/base",
            "_model_module_version": "1.2.0",
            "_model_name": "LayoutModel",
            "_view_count": null,
            "_view_module": "@jupyter-widgets/base",
            "_view_module_version": "1.2.0",
            "_view_name": "LayoutView",
            "align_content": null,
            "align_items": null,
            "align_self": null,
            "border": null,
            "bottom": null,
            "display": null,
            "flex": null,
            "flex_flow": null,
            "grid_area": null,
            "grid_auto_columns": null,
            "grid_auto_flow": null,
            "grid_auto_rows": null,
            "grid_column": null,
            "grid_gap": null,
            "grid_row": null,
            "grid_template_areas": null,
            "grid_template_columns": null,
            "grid_template_rows": null,
            "height": null,
            "justify_content": null,
            "justify_items": null,
            "left": null,
            "margin": null,
            "max_height": null,
            "max_width": null,
            "min_height": null,
            "min_width": null,
            "object_fit": null,
            "object_position": null,
            "order": null,
            "overflow": null,
            "overflow_x": null,
            "overflow_y": null,
            "padding": null,
            "right": null,
            "top": null,
            "visibility": null,
            "width": null
          }
        },
        "dcaa4bfe7929429a8a9803521e6c73ff": {
          "model_module": "@jupyter-widgets/base",
          "model_name": "LayoutModel",
          "model_module_version": "1.2.0",
          "state": {
            "_model_module": "@jupyter-widgets/base",
            "_model_module_version": "1.2.0",
            "_model_name": "LayoutModel",
            "_view_count": null,
            "_view_module": "@jupyter-widgets/base",
            "_view_module_version": "1.2.0",
            "_view_name": "LayoutView",
            "align_content": null,
            "align_items": null,
            "align_self": null,
            "border": null,
            "bottom": null,
            "display": null,
            "flex": null,
            "flex_flow": null,
            "grid_area": null,
            "grid_auto_columns": null,
            "grid_auto_flow": null,
            "grid_auto_rows": null,
            "grid_column": null,
            "grid_gap": null,
            "grid_row": null,
            "grid_template_areas": null,
            "grid_template_columns": null,
            "grid_template_rows": null,
            "height": null,
            "justify_content": null,
            "justify_items": null,
            "left": null,
            "margin": null,
            "max_height": null,
            "max_width": null,
            "min_height": null,
            "min_width": null,
            "object_fit": null,
            "object_position": null,
            "order": null,
            "overflow": null,
            "overflow_x": null,
            "overflow_y": null,
            "padding": null,
            "right": null,
            "top": null,
            "visibility": null,
            "width": null
          }
        },
        "5df50ba7ae2e4ac29bf8c0d39d09b5be": {
          "model_module": "@jupyter-widgets/controls",
          "model_name": "DescriptionStyleModel",
          "model_module_version": "1.5.0",
          "state": {
            "_model_module": "@jupyter-widgets/controls",
            "_model_module_version": "1.5.0",
            "_model_name": "DescriptionStyleModel",
            "_view_count": null,
            "_view_module": "@jupyter-widgets/base",
            "_view_module_version": "1.2.0",
            "_view_name": "StyleView",
            "description_width": ""
          }
        },
        "53f1efa1df694db2af42c87bcab8e7bf": {
          "model_module": "@jupyter-widgets/base",
          "model_name": "LayoutModel",
          "model_module_version": "1.2.0",
          "state": {
            "_model_module": "@jupyter-widgets/base",
            "_model_module_version": "1.2.0",
            "_model_name": "LayoutModel",
            "_view_count": null,
            "_view_module": "@jupyter-widgets/base",
            "_view_module_version": "1.2.0",
            "_view_name": "LayoutView",
            "align_content": null,
            "align_items": null,
            "align_self": null,
            "border": null,
            "bottom": null,
            "display": null,
            "flex": null,
            "flex_flow": null,
            "grid_area": null,
            "grid_auto_columns": null,
            "grid_auto_flow": null,
            "grid_auto_rows": null,
            "grid_column": null,
            "grid_gap": null,
            "grid_row": null,
            "grid_template_areas": null,
            "grid_template_columns": null,
            "grid_template_rows": null,
            "height": null,
            "justify_content": null,
            "justify_items": null,
            "left": null,
            "margin": null,
            "max_height": null,
            "max_width": null,
            "min_height": null,
            "min_width": null,
            "object_fit": null,
            "object_position": null,
            "order": null,
            "overflow": null,
            "overflow_x": null,
            "overflow_y": null,
            "padding": null,
            "right": null,
            "top": null,
            "visibility": null,
            "width": null
          }
        },
        "47429c46ffab4ef6b9c58447e047a58e": {
          "model_module": "@jupyter-widgets/controls",
          "model_name": "ProgressStyleModel",
          "model_module_version": "1.5.0",
          "state": {
            "_model_module": "@jupyter-widgets/controls",
            "_model_module_version": "1.5.0",
            "_model_name": "ProgressStyleModel",
            "_view_count": null,
            "_view_module": "@jupyter-widgets/base",
            "_view_module_version": "1.2.0",
            "_view_name": "StyleView",
            "bar_color": null,
            "description_width": ""
          }
        },
        "063e652109ca435d9de69e6bb27c9096": {
          "model_module": "@jupyter-widgets/base",
          "model_name": "LayoutModel",
          "model_module_version": "1.2.0",
          "state": {
            "_model_module": "@jupyter-widgets/base",
            "_model_module_version": "1.2.0",
            "_model_name": "LayoutModel",
            "_view_count": null,
            "_view_module": "@jupyter-widgets/base",
            "_view_module_version": "1.2.0",
            "_view_name": "LayoutView",
            "align_content": null,
            "align_items": null,
            "align_self": null,
            "border": null,
            "bottom": null,
            "display": null,
            "flex": null,
            "flex_flow": null,
            "grid_area": null,
            "grid_auto_columns": null,
            "grid_auto_flow": null,
            "grid_auto_rows": null,
            "grid_column": null,
            "grid_gap": null,
            "grid_row": null,
            "grid_template_areas": null,
            "grid_template_columns": null,
            "grid_template_rows": null,
            "height": null,
            "justify_content": null,
            "justify_items": null,
            "left": null,
            "margin": null,
            "max_height": null,
            "max_width": null,
            "min_height": null,
            "min_width": null,
            "object_fit": null,
            "object_position": null,
            "order": null,
            "overflow": null,
            "overflow_x": null,
            "overflow_y": null,
            "padding": null,
            "right": null,
            "top": null,
            "visibility": null,
            "width": null
          }
        },
        "82017a71e74b410faf6b5ef105c066e2": {
          "model_module": "@jupyter-widgets/controls",
          "model_name": "DescriptionStyleModel",
          "model_module_version": "1.5.0",
          "state": {
            "_model_module": "@jupyter-widgets/controls",
            "_model_module_version": "1.5.0",
            "_model_name": "DescriptionStyleModel",
            "_view_count": null,
            "_view_module": "@jupyter-widgets/base",
            "_view_module_version": "1.2.0",
            "_view_name": "StyleView",
            "description_width": ""
          }
        },
        "1b932bd087df45788d8bc840f9295eac": {
          "model_module": "@jupyter-widgets/controls",
          "model_name": "HBoxModel",
          "model_module_version": "1.5.0",
          "state": {
            "_dom_classes": [],
            "_model_module": "@jupyter-widgets/controls",
            "_model_module_version": "1.5.0",
            "_model_name": "HBoxModel",
            "_view_count": null,
            "_view_module": "@jupyter-widgets/controls",
            "_view_module_version": "1.5.0",
            "_view_name": "HBoxView",
            "box_style": "",
            "children": [
              "IPY_MODEL_9628370cb9234cdfad30e1b01c1df1ea",
              "IPY_MODEL_42dda50d609c4805ba8751b718fbb335",
              "IPY_MODEL_cf38b4a5d3c94c138c0eca9ccb8e1612"
            ],
            "layout": "IPY_MODEL_545e09d3237d437fb0729814ae343ef2"
          }
        },
        "9628370cb9234cdfad30e1b01c1df1ea": {
          "model_module": "@jupyter-widgets/controls",
          "model_name": "HTMLModel",
          "model_module_version": "1.5.0",
          "state": {
            "_dom_classes": [],
            "_model_module": "@jupyter-widgets/controls",
            "_model_module_version": "1.5.0",
            "_model_name": "HTMLModel",
            "_view_count": null,
            "_view_module": "@jupyter-widgets/controls",
            "_view_module_version": "1.5.0",
            "_view_name": "HTMLView",
            "description": "",
            "description_tooltip": null,
            "layout": "IPY_MODEL_f35e3dd602e342529f9e6d40663b24a9",
            "placeholder": "​",
            "style": "IPY_MODEL_f14c2de46388442e97443fcb2ebf56f3",
            "value": "Batches: 100%"
          }
        },
        "42dda50d609c4805ba8751b718fbb335": {
          "model_module": "@jupyter-widgets/controls",
          "model_name": "FloatProgressModel",
          "model_module_version": "1.5.0",
          "state": {
            "_dom_classes": [],
            "_model_module": "@jupyter-widgets/controls",
            "_model_module_version": "1.5.0",
            "_model_name": "FloatProgressModel",
            "_view_count": null,
            "_view_module": "@jupyter-widgets/controls",
            "_view_module_version": "1.5.0",
            "_view_name": "ProgressView",
            "bar_style": "success",
            "description": "",
            "description_tooltip": null,
            "layout": "IPY_MODEL_c3e81d0fce65441ba09f783d44a4b5e0",
            "max": 146,
            "min": 0,
            "orientation": "horizontal",
            "style": "IPY_MODEL_b29997841c7840579c3f493b6536b55b",
            "value": 146
          }
        },
        "cf38b4a5d3c94c138c0eca9ccb8e1612": {
          "model_module": "@jupyter-widgets/controls",
          "model_name": "HTMLModel",
          "model_module_version": "1.5.0",
          "state": {
            "_dom_classes": [],
            "_model_module": "@jupyter-widgets/controls",
            "_model_module_version": "1.5.0",
            "_model_name": "HTMLModel",
            "_view_count": null,
            "_view_module": "@jupyter-widgets/controls",
            "_view_module_version": "1.5.0",
            "_view_name": "HTMLView",
            "description": "",
            "description_tooltip": null,
            "layout": "IPY_MODEL_e1643630aa414aeabab27bca235407d2",
            "placeholder": "​",
            "style": "IPY_MODEL_aa15a9f421bb4157b5c3f8d16a5de27a",
            "value": " 146/146 [01:37&lt;00:00,  2.48it/s]"
          }
        },
        "545e09d3237d437fb0729814ae343ef2": {
          "model_module": "@jupyter-widgets/base",
          "model_name": "LayoutModel",
          "model_module_version": "1.2.0",
          "state": {
            "_model_module": "@jupyter-widgets/base",
            "_model_module_version": "1.2.0",
            "_model_name": "LayoutModel",
            "_view_count": null,
            "_view_module": "@jupyter-widgets/base",
            "_view_module_version": "1.2.0",
            "_view_name": "LayoutView",
            "align_content": null,
            "align_items": null,
            "align_self": null,
            "border": null,
            "bottom": null,
            "display": null,
            "flex": null,
            "flex_flow": null,
            "grid_area": null,
            "grid_auto_columns": null,
            "grid_auto_flow": null,
            "grid_auto_rows": null,
            "grid_column": null,
            "grid_gap": null,
            "grid_row": null,
            "grid_template_areas": null,
            "grid_template_columns": null,
            "grid_template_rows": null,
            "height": null,
            "justify_content": null,
            "justify_items": null,
            "left": null,
            "margin": null,
            "max_height": null,
            "max_width": null,
            "min_height": null,
            "min_width": null,
            "object_fit": null,
            "object_position": null,
            "order": null,
            "overflow": null,
            "overflow_x": null,
            "overflow_y": null,
            "padding": null,
            "right": null,
            "top": null,
            "visibility": null,
            "width": null
          }
        },
        "f35e3dd602e342529f9e6d40663b24a9": {
          "model_module": "@jupyter-widgets/base",
          "model_name": "LayoutModel",
          "model_module_version": "1.2.0",
          "state": {
            "_model_module": "@jupyter-widgets/base",
            "_model_module_version": "1.2.0",
            "_model_name": "LayoutModel",
            "_view_count": null,
            "_view_module": "@jupyter-widgets/base",
            "_view_module_version": "1.2.0",
            "_view_name": "LayoutView",
            "align_content": null,
            "align_items": null,
            "align_self": null,
            "border": null,
            "bottom": null,
            "display": null,
            "flex": null,
            "flex_flow": null,
            "grid_area": null,
            "grid_auto_columns": null,
            "grid_auto_flow": null,
            "grid_auto_rows": null,
            "grid_column": null,
            "grid_gap": null,
            "grid_row": null,
            "grid_template_areas": null,
            "grid_template_columns": null,
            "grid_template_rows": null,
            "height": null,
            "justify_content": null,
            "justify_items": null,
            "left": null,
            "margin": null,
            "max_height": null,
            "max_width": null,
            "min_height": null,
            "min_width": null,
            "object_fit": null,
            "object_position": null,
            "order": null,
            "overflow": null,
            "overflow_x": null,
            "overflow_y": null,
            "padding": null,
            "right": null,
            "top": null,
            "visibility": null,
            "width": null
          }
        },
        "f14c2de46388442e97443fcb2ebf56f3": {
          "model_module": "@jupyter-widgets/controls",
          "model_name": "DescriptionStyleModel",
          "model_module_version": "1.5.0",
          "state": {
            "_model_module": "@jupyter-widgets/controls",
            "_model_module_version": "1.5.0",
            "_model_name": "DescriptionStyleModel",
            "_view_count": null,
            "_view_module": "@jupyter-widgets/base",
            "_view_module_version": "1.2.0",
            "_view_name": "StyleView",
            "description_width": ""
          }
        },
        "c3e81d0fce65441ba09f783d44a4b5e0": {
          "model_module": "@jupyter-widgets/base",
          "model_name": "LayoutModel",
          "model_module_version": "1.2.0",
          "state": {
            "_model_module": "@jupyter-widgets/base",
            "_model_module_version": "1.2.0",
            "_model_name": "LayoutModel",
            "_view_count": null,
            "_view_module": "@jupyter-widgets/base",
            "_view_module_version": "1.2.0",
            "_view_name": "LayoutView",
            "align_content": null,
            "align_items": null,
            "align_self": null,
            "border": null,
            "bottom": null,
            "display": null,
            "flex": null,
            "flex_flow": null,
            "grid_area": null,
            "grid_auto_columns": null,
            "grid_auto_flow": null,
            "grid_auto_rows": null,
            "grid_column": null,
            "grid_gap": null,
            "grid_row": null,
            "grid_template_areas": null,
            "grid_template_columns": null,
            "grid_template_rows": null,
            "height": null,
            "justify_content": null,
            "justify_items": null,
            "left": null,
            "margin": null,
            "max_height": null,
            "max_width": null,
            "min_height": null,
            "min_width": null,
            "object_fit": null,
            "object_position": null,
            "order": null,
            "overflow": null,
            "overflow_x": null,
            "overflow_y": null,
            "padding": null,
            "right": null,
            "top": null,
            "visibility": null,
            "width": null
          }
        },
        "b29997841c7840579c3f493b6536b55b": {
          "model_module": "@jupyter-widgets/controls",
          "model_name": "ProgressStyleModel",
          "model_module_version": "1.5.0",
          "state": {
            "_model_module": "@jupyter-widgets/controls",
            "_model_module_version": "1.5.0",
            "_model_name": "ProgressStyleModel",
            "_view_count": null,
            "_view_module": "@jupyter-widgets/base",
            "_view_module_version": "1.2.0",
            "_view_name": "StyleView",
            "bar_color": null,
            "description_width": ""
          }
        },
        "e1643630aa414aeabab27bca235407d2": {
          "model_module": "@jupyter-widgets/base",
          "model_name": "LayoutModel",
          "model_module_version": "1.2.0",
          "state": {
            "_model_module": "@jupyter-widgets/base",
            "_model_module_version": "1.2.0",
            "_model_name": "LayoutModel",
            "_view_count": null,
            "_view_module": "@jupyter-widgets/base",
            "_view_module_version": "1.2.0",
            "_view_name": "LayoutView",
            "align_content": null,
            "align_items": null,
            "align_self": null,
            "border": null,
            "bottom": null,
            "display": null,
            "flex": null,
            "flex_flow": null,
            "grid_area": null,
            "grid_auto_columns": null,
            "grid_auto_flow": null,
            "grid_auto_rows": null,
            "grid_column": null,
            "grid_gap": null,
            "grid_row": null,
            "grid_template_areas": null,
            "grid_template_columns": null,
            "grid_template_rows": null,
            "height": null,
            "justify_content": null,
            "justify_items": null,
            "left": null,
            "margin": null,
            "max_height": null,
            "max_width": null,
            "min_height": null,
            "min_width": null,
            "object_fit": null,
            "object_position": null,
            "order": null,
            "overflow": null,
            "overflow_x": null,
            "overflow_y": null,
            "padding": null,
            "right": null,
            "top": null,
            "visibility": null,
            "width": null
          }
        },
        "aa15a9f421bb4157b5c3f8d16a5de27a": {
          "model_module": "@jupyter-widgets/controls",
          "model_name": "DescriptionStyleModel",
          "model_module_version": "1.5.0",
          "state": {
            "_model_module": "@jupyter-widgets/controls",
            "_model_module_version": "1.5.0",
            "_model_name": "DescriptionStyleModel",
            "_view_count": null,
            "_view_module": "@jupyter-widgets/base",
            "_view_module_version": "1.2.0",
            "_view_name": "StyleView",
            "description_width": ""
          }
        }
      }
    }
  },
  "nbformat": 4,
  "nbformat_minor": 5
}