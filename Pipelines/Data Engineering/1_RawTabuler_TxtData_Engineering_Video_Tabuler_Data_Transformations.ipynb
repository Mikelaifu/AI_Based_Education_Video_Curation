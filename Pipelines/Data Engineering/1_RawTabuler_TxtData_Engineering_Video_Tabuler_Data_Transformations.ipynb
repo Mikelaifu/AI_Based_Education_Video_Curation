{
 "cells": [
  {
   "cell_type": "markdown",
   "id": "5ec77214",
   "metadata": {},
   "source": [
    "### Raw text table Mapping, Transformation & Engineering\n",
    "\n",
    "After audio, text, video/audio file stats, timestamp extraction and mapping frm data source curations\n",
    "\n",
    "\n",
    "In this phase, we continue to: \n",
    "- generate video id, video name\n",
    "- generate audio id, audio name\n",
    "- extactv meta data: class, topics sub topcis, example high quality content\n",
    "- map timestamp to content\n",
    "- generate class_id, topic_id, subtopics_id, and their nams \n",
    "- label the unprocessed text chunks into timestamps, ids, class/topics "
   ]
  },
  {
   "cell_type": "code",
   "execution_count": null,
   "id": "2b1d7106",
   "metadata": {},
   "outputs": [],
   "source": []
  },
  {
   "cell_type": "code",
   "execution_count": null,
   "id": "412291b1",
   "metadata": {},
   "outputs": [],
   "source": []
  },
  {
   "cell_type": "code",
   "execution_count": null,
   "id": "fab5c077",
   "metadata": {},
   "outputs": [],
   "source": []
  },
  {
   "cell_type": "code",
   "execution_count": null,
   "id": "81f33a70",
   "metadata": {},
   "outputs": [],
   "source": []
  },
  {
   "cell_type": "code",
   "execution_count": null,
   "id": "072ba3a5",
   "metadata": {},
   "outputs": [],
   "source": []
  },
  {
   "cell_type": "code",
   "execution_count": null,
   "id": "125b458d",
   "metadata": {},
   "outputs": [],
   "source": []
  },
  {
   "cell_type": "code",
   "execution_count": null,
   "id": "beda1b62",
   "metadata": {},
   "outputs": [],
   "source": []
  },
  {
   "cell_type": "code",
   "execution_count": null,
   "id": "38a9361e",
   "metadata": {},
   "outputs": [],
   "source": []
  },
  {
   "cell_type": "code",
   "execution_count": null,
   "id": "1d3dacaa",
   "metadata": {},
   "outputs": [],
   "source": []
  },
  {
   "cell_type": "code",
   "execution_count": null,
   "id": "c7ef116e",
   "metadata": {},
   "outputs": [],
   "source": []
  },
  {
   "cell_type": "code",
   "execution_count": null,
   "id": "f84a2658",
   "metadata": {},
   "outputs": [],
   "source": []
  },
  {
   "cell_type": "code",
   "execution_count": null,
   "id": "077f0f05",
   "metadata": {},
   "outputs": [],
   "source": []
  }
 ],
 "metadata": {
  "kernelspec": {
   "display_name": "Python 3 (ipykernel)",
   "language": "python",
   "name": "python3"
  },
  "language_info": {
   "codemirror_mode": {
    "name": "ipython",
    "version": 3
   },
   "file_extension": ".py",
   "mimetype": "text/x-python",
   "name": "python",
   "nbconvert_exporter": "python",
   "pygments_lexer": "ipython3",
   "version": "3.7.11"
  }
 },
 "nbformat": 4,
 "nbformat_minor": 5
}
