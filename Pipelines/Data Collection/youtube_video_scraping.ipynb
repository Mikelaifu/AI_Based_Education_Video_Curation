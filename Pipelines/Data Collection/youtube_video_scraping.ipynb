{
 "cells": [
  {
   "cell_type": "code",
   "execution_count": 6,
   "id": "9d483d7b",
   "metadata": {},
   "outputs": [],
   "source": [
    "# pip install pytube"
   ]
  },
  {
   "cell_type": "code",
   "execution_count": 1,
   "id": "ef4e4520",
   "metadata": {},
   "outputs": [],
   "source": [
    "# pip install git+https://github.com/pytube/pytube"
   ]
  },
  {
   "cell_type": "code",
   "execution_count": 6,
   "id": "9d7f47a3",
   "metadata": {},
   "outputs": [],
   "source": [
    "from pytube import YouTube\n",
    "import os\n",
    "from pathlib import Path\n",
    "import numpy as np\n",
    "import pandas as pd"
   ]
  },
  {
   "cell_type": "code",
   "execution_count": 7,
   "id": "bd43055b",
   "metadata": {},
   "outputs": [],
   "source": [
    "topics = ['flamingo', 'peacock']\n",
    "\n",
    "url_dict = {\n",
    "    \n",
    "    # flamingo \n",
    "   \"flamingo_1_youtube\" : \"https://www.youtube.com/watch?v=n06H7OcPd-g\", # only at 1:30s start to tak about Flamingo\n",
    "    \"flamingo_2_youtube\" : \"https://www.youtube.com/watch?v=asOctYi8a-k\", # why famingo is pink?\n",
    "    \"flamingo_3_youtube\" : \"https://www.youtube.com/watch?v=EhDAU442vvE\", # how flamingo mate (only graphic)\n",
    "    \"flamingo_4_youtube\" : \"https://www.youtube.com/watch?v=QLV_K7DVeyU\", # # video with less detailed explaintation more heavily on graphics\n",
    "    \"flamingo_5_youtube\" : \"https://www.youtube.com/watch?v=e5akODQ0CVo\", # super kiddish flamingo video for kids that is younger than 8\n",
    "    \"flamingo_6_youtube\" : \"https://www.youtube.com/watch?v=jB8ATZufc_0\", # off topic video: how to draw a flamingo\n",
    "    \"flamingo_7_youtube\" : \"https://www.youtube.com/watch?v=mWwtO5adfTE\",  # scientifc fact about flamingo for > 12 or adult\n",
    "    \"flamingo_8_youtube\" : \"https://www.youtube.com/watch?v=Pz3XiJac57w\", # long ? 5 min and a little too childrish for kids > 10\n",
    "    \"flamingo_9_youtube\" : \"https://www.youtube.com/watch?v=dn_S9C-RDRw\", # how Flamingo fly (feature property) for more for kids >= 12\n",
    "    \"flamingo_10_youtube\" : \"https://www.youtube.com/watch?v=mWwtO5adfTE&t=23s\"\n",
    "#     \"flamingo_11_youtube\" : \"\", \n",
    "#     \"flamingo_12_youtube\" : \"\", \n",
    "#     \"flamingo_13_youtube\" : \"\", \n",
    "#     \"flamingo_14_youtube\" : \"\", \n",
    "#     \"flamingo_15_youtube\" : \"\", \n",
    "#     \"flamingo_16_youtube\" : \"\",  \n",
    "#     \"flamingo_17_youtube\" : \"\", \n",
    "#     \"flamingo_18_youtube\" : \"\", \n",
    "#     \"flamingo_19_youtube\" : \"\", \n",
    "#     \"flamingo_20_youtube\" : \"\" \n",
    "    \n",
    "    # peacock \n",
    "    \n",
    "#     ,\"peacock_10_youtube\" : \"\",\n",
    "#     \"peacock_11_youtube\" : \"\", \n",
    "#     \"peacock_12_youtube\" : \"\", \n",
    "#     \"peacock_13_youtube\" : \"\", \n",
    "#     \"peacock_14_youtube\" : \"\", \n",
    "#     \"peacock_15_youtube\" : \"\", \n",
    "#     \"peacock_16_youtube\" : \"\",  \n",
    "#     \"peacock_17_youtube\" : \"\", \n",
    "#     \"peacock_18_youtube\" : \"\", \n",
    "#     \"peacock_19_youtube\" : \"\", \n",
    "#     \"peacock_20_youtube\" : \"\", \n",
    "#     \"peacock_10_youtube\" : \"\", \n",
    "#     \"peacock_11_youtube\" : \"\", \n",
    "#     \"peacock_12_youtube\" : \"\", \n",
    "#     \"peacock_13_youtube\" : \"\", \n",
    "#     \"peacock_14_youtube\" : \"\", \n",
    "#     \"peacock_15_youtube\" : \"\", \n",
    "#     \"peacock_16_youtube\" : \"\",  \n",
    "#     \"peacock_17_youtube\" : \"\", \n",
    "#     \"peacock_18_youtube\" : \"\", \n",
    "#     \"peacock_19_youtube\" : \"\", \n",
    "#     \"peacock_20_youtube\" : \"\"\n",
    "    \n",
    "}"
   ]
  },
  {
   "cell_type": "code",
   "execution_count": 5,
   "id": "26be20dd",
   "metadata": {},
   "outputs": [],
   "source": []
  },
  {
   "cell_type": "code",
   "execution_count": 15,
   "id": "b6b5d2c4",
   "metadata": {},
   "outputs": [
    {
     "name": "stdout",
     "output_type": "stream",
     "text": [
      "flamingo\n",
      "Can not be downloaded \n",
      "Can not be downloaded \n",
      "Can not be downloaded \n",
      "Can not be downloaded \n",
      "Can not be downloaded \n",
      "Can not be downloaded \n",
      "Can not be downloaded \n",
      "Can not be downloaded \n",
      "Can not be downloaded \n",
      "Can not be downloaded \n",
      "peacock\n"
     ]
    }
   ],
   "source": [
    "for topic in topics:\n",
    "    print(topic)\n",
    "    for vd_nm in url_dict.keys():\n",
    "        if topic in vd_nm:\n",
    "            yt = YouTube(url_dict[vd_nm])\n",
    "            try:\n",
    "                \n",
    "#                 print(\"downloading....\")\n",
    "#                 url = url_dict[vd_nm]\n",
    "#                 video = url.streams.get_highest_resolution()\n",
    "\n",
    "# #                 path_to_download_folder = str(os.path.join(Path.home(), \"Downloads\"))\n",
    "                \n",
    "#                 path_to_download_folder = 'collections/' + topic + \"/\" + vd_nm + \".mp4\" \n",
    "\n",
    "#                 video.download(path_to_download_folder)\n",
    "                # print(\"Downloaded! :)\")\n",
    "                stream = yt.streams.first('mp4', '720p')\n",
    "                stream.download('/collections/' + topic + \"/\" + vd_nm + \".mp4\" )\n",
    "                print(\"downloading...\")\n",
    "            except :\n",
    "                print(\"Can not be downloaded \")\n",
    "                pass"
   ]
  },
  {
   "cell_type": "code",
   "execution_count": null,
   "id": "b385b9f3",
   "metadata": {},
   "outputs": [],
   "source": []
  },
  {
   "cell_type": "code",
   "execution_count": null,
   "id": "29c42588",
   "metadata": {},
   "outputs": [],
   "source": []
  },
  {
   "cell_type": "code",
   "execution_count": null,
   "id": "265ba977",
   "metadata": {},
   "outputs": [],
   "source": []
  },
  {
   "cell_type": "code",
   "execution_count": null,
   "id": "7da03c00",
   "metadata": {},
   "outputs": [],
   "source": [
    "# how to scrape youtube video's statistics:\n",
    "# https://github.com/staedtlernorica/Youtube-Video-Statistics-Scraper"
   ]
  },
  {
   "cell_type": "code",
   "execution_count": null,
   "id": "eef90c9d",
   "metadata": {},
   "outputs": [],
   "source": []
  },
  {
   "cell_type": "code",
   "execution_count": null,
   "id": "600c73f5",
   "metadata": {},
   "outputs": [],
   "source": []
  },
  {
   "cell_type": "code",
   "execution_count": null,
   "id": "f61cc328",
   "metadata": {},
   "outputs": [],
   "source": []
  },
  {
   "cell_type": "code",
   "execution_count": null,
   "id": "4c23afb6",
   "metadata": {},
   "outputs": [],
   "source": []
  },
  {
   "cell_type": "code",
   "execution_count": null,
   "id": "480db92d",
   "metadata": {},
   "outputs": [],
   "source": []
  },
  {
   "cell_type": "code",
   "execution_count": null,
   "id": "dc73540e",
   "metadata": {},
   "outputs": [],
   "source": []
  },
  {
   "cell_type": "code",
   "execution_count": null,
   "id": "01f49fbc",
   "metadata": {},
   "outputs": [],
   "source": []
  },
  {
   "cell_type": "code",
   "execution_count": null,
   "id": "a0e10d60",
   "metadata": {},
   "outputs": [],
   "source": []
  }
 ],
 "metadata": {
  "kernelspec": {
   "display_name": "Python 3",
   "language": "python",
   "name": "python3"
  },
  "language_info": {
   "codemirror_mode": {
    "name": "ipython",
    "version": 3
   },
   "file_extension": ".py",
   "mimetype": "text/x-python",
   "name": "python",
   "nbconvert_exporter": "python",
   "pygments_lexer": "ipython3",
   "version": "3.6.13"
  }
 },
 "nbformat": 4,
 "nbformat_minor": 5
}
